{
 "cells": [
  {
   "cell_type": "code",
   "execution_count": 1,
   "metadata": {},
   "outputs": [],
   "source": [
    "#importing required libraries\n",
    "import pypyodbc as podbc\n",
    "import numpy as np\n",
    "import pandas as pd\n",
    "import seaborn as sns\n",
    "import matplotlib.pyplot as plt\n",
    "import tabulate as tabulate"
   ]
  },
  {
   "cell_type": "code",
   "execution_count": 2,
   "metadata": {},
   "outputs": [],
   "source": [
    "from sqlalchemy import create_engine\n",
    "\n",
    "server = 'DESKTOP-NPV4HRT'\n",
    "database = 'Ecommerce'\n",
    "conn_str = f'mssql+pyodbc://{server}/{database}?driver=SQL+Server'\n",
    "\n",
    "engine = create_engine(conn_str)"
   ]
  },
  {
   "cell_type": "code",
   "execution_count": 3,
   "metadata": {},
   "outputs": [],
   "source": [
    "tables = pd.read_sql_query(\"SELECT table_name FROM information_schema.tables WHERE table_type = 'BASE TABLE';\", engine)"
   ]
  },
  {
   "cell_type": "code",
   "execution_count": 4,
   "metadata": {},
   "outputs": [],
   "source": [
    "table_name = tables[\"table_name\"].unique().tolist()"
   ]
  },
  {
   "cell_type": "code",
   "execution_count": 5,
   "metadata": {},
   "outputs": [],
   "source": [
    "dataframes = {}\n",
    "for table in table_name:\n",
    "    query = f'SELECT * FROM {table};'\n",
    "    dataframes[table] = pd.read_sql_query(query,engine)"
   ]
  },
  {
   "cell_type": "code",
   "execution_count": 6,
   "metadata": {},
   "outputs": [],
   "source": [
    "table = tables[\"table_name\"].tolist()"
   ]
  },
  {
   "cell_type": "code",
   "execution_count": 7,
   "metadata": {},
   "outputs": [
    {
     "data": {
      "text/plain": [
       "['olist_customers_dataset',\n",
       " 'product_category_name_translation',\n",
       " 'olist_sellers_dataset',\n",
       " 'olist_order_reviews_dataset',\n",
       " 'olist_order_payments_dataset',\n",
       " 'olist_order_items_dataset',\n",
       " 'olist_geolocation_dataset',\n",
       " 'olist_orders_dataset',\n",
       " 'olist_products_dataset']"
      ]
     },
     "execution_count": 7,
     "metadata": {},
     "output_type": "execute_result"
    }
   ],
   "source": [
    "table"
   ]
  },
  {
   "cell_type": "code",
   "execution_count": 8,
   "metadata": {},
   "outputs": [],
   "source": [
    "olist_customers = dataframes.get(table[0])\n",
    "name_translation = dataframes.get(table[1])\n",
    "olist_sellers = dataframes.get(table[2])\n",
    "olist_review = dataframes.get(table[3])\n",
    "olist_payements = dataframes.get(table[4])\n",
    "olist_order_items = dataframes.get(table[5])\n",
    "olist_geolocation = dataframes.get(table[6])\n",
    "olist_orders = dataframes.get(table[7])\n",
    "olist_products = dataframes.get(table[8])"
   ]
  },
  {
   "cell_type": "markdown",
   "metadata": {},
   "source": [
    "# Orders"
   ]
  },
  {
   "cell_type": "code",
   "execution_count": 9,
   "metadata": {},
   "outputs": [
    {
     "data": {
      "text/html": [
       "<div>\n",
       "<style scoped>\n",
       "    .dataframe tbody tr th:only-of-type {\n",
       "        vertical-align: middle;\n",
       "    }\n",
       "\n",
       "    .dataframe tbody tr th {\n",
       "        vertical-align: top;\n",
       "    }\n",
       "\n",
       "    .dataframe thead th {\n",
       "        text-align: right;\n",
       "    }\n",
       "</style>\n",
       "<table border=\"1\" class=\"dataframe\">\n",
       "  <thead>\n",
       "    <tr style=\"text-align: right;\">\n",
       "      <th></th>\n",
       "      <th>order_id</th>\n",
       "      <th>customer_id</th>\n",
       "      <th>order_status</th>\n",
       "      <th>order_purchase_timestamp</th>\n",
       "      <th>order_approved_at</th>\n",
       "      <th>order_delivered_carrier_date</th>\n",
       "      <th>order_delivered_customer_date</th>\n",
       "      <th>order_estimated_delivery_date</th>\n",
       "    </tr>\n",
       "  </thead>\n",
       "  <tbody>\n",
       "    <tr>\n",
       "      <th>0</th>\n",
       "      <td>e481f51cbdc54678b7cc49136f2d6af7</td>\n",
       "      <td>9ef432eb6251297304e76186b10a928d</td>\n",
       "      <td>delivered</td>\n",
       "      <td>2017-10-02 10:56:33.0000000</td>\n",
       "      <td>2017-10-02 11:07:15.0000000</td>\n",
       "      <td>2017-10-04 19:55:00.0000000</td>\n",
       "      <td>2017-10-10 21:25:13.0000000</td>\n",
       "      <td>2017-10-18 00:00:00.0000000</td>\n",
       "    </tr>\n",
       "    <tr>\n",
       "      <th>1</th>\n",
       "      <td>53cdb2fc8bc7dce0b6741e2150273451</td>\n",
       "      <td>b0830fb4747a6c6d20dea0b8c802d7ef</td>\n",
       "      <td>delivered</td>\n",
       "      <td>2018-07-24 20:41:37.0000000</td>\n",
       "      <td>2018-07-26 03:24:27.0000000</td>\n",
       "      <td>2018-07-26 14:31:00.0000000</td>\n",
       "      <td>2018-08-07 15:27:45.0000000</td>\n",
       "      <td>2018-08-13 00:00:00.0000000</td>\n",
       "    </tr>\n",
       "    <tr>\n",
       "      <th>2</th>\n",
       "      <td>47770eb9100c2d0c44946d9cf07ec65d</td>\n",
       "      <td>41ce2a54c0b03bf3443c3d931a367089</td>\n",
       "      <td>delivered</td>\n",
       "      <td>2018-08-08 08:38:49.0000000</td>\n",
       "      <td>2018-08-08 08:55:23.0000000</td>\n",
       "      <td>2018-08-08 13:50:00.0000000</td>\n",
       "      <td>2018-08-17 18:06:29.0000000</td>\n",
       "      <td>2018-09-04 00:00:00.0000000</td>\n",
       "    </tr>\n",
       "    <tr>\n",
       "      <th>3</th>\n",
       "      <td>949d5b44dbf5de918fe9c16f97b45f8a</td>\n",
       "      <td>f88197465ea7920adcdbec7375364d82</td>\n",
       "      <td>delivered</td>\n",
       "      <td>2017-11-18 19:28:06.0000000</td>\n",
       "      <td>2017-11-18 19:45:59.0000000</td>\n",
       "      <td>2017-11-22 13:39:59.0000000</td>\n",
       "      <td>2017-12-02 00:28:42.0000000</td>\n",
       "      <td>2017-12-15 00:00:00.0000000</td>\n",
       "    </tr>\n",
       "    <tr>\n",
       "      <th>4</th>\n",
       "      <td>ad21c59c0840e6cb83a9ceb5573f8159</td>\n",
       "      <td>8ab97904e6daea8866dbdbc4fb7aad2c</td>\n",
       "      <td>delivered</td>\n",
       "      <td>2018-02-13 21:18:39.0000000</td>\n",
       "      <td>2018-02-13 22:20:29.0000000</td>\n",
       "      <td>2018-02-14 19:46:34.0000000</td>\n",
       "      <td>2018-02-16 18:17:02.0000000</td>\n",
       "      <td>2018-02-26 00:00:00.0000000</td>\n",
       "    </tr>\n",
       "  </tbody>\n",
       "</table>\n",
       "</div>"
      ],
      "text/plain": [
       "                           order_id                       customer_id  \\\n",
       "0  e481f51cbdc54678b7cc49136f2d6af7  9ef432eb6251297304e76186b10a928d   \n",
       "1  53cdb2fc8bc7dce0b6741e2150273451  b0830fb4747a6c6d20dea0b8c802d7ef   \n",
       "2  47770eb9100c2d0c44946d9cf07ec65d  41ce2a54c0b03bf3443c3d931a367089   \n",
       "3  949d5b44dbf5de918fe9c16f97b45f8a  f88197465ea7920adcdbec7375364d82   \n",
       "4  ad21c59c0840e6cb83a9ceb5573f8159  8ab97904e6daea8866dbdbc4fb7aad2c   \n",
       "\n",
       "  order_status     order_purchase_timestamp            order_approved_at  \\\n",
       "0    delivered  2017-10-02 10:56:33.0000000  2017-10-02 11:07:15.0000000   \n",
       "1    delivered  2018-07-24 20:41:37.0000000  2018-07-26 03:24:27.0000000   \n",
       "2    delivered  2018-08-08 08:38:49.0000000  2018-08-08 08:55:23.0000000   \n",
       "3    delivered  2017-11-18 19:28:06.0000000  2017-11-18 19:45:59.0000000   \n",
       "4    delivered  2018-02-13 21:18:39.0000000  2018-02-13 22:20:29.0000000   \n",
       "\n",
       "  order_delivered_carrier_date order_delivered_customer_date  \\\n",
       "0  2017-10-04 19:55:00.0000000   2017-10-10 21:25:13.0000000   \n",
       "1  2018-07-26 14:31:00.0000000   2018-08-07 15:27:45.0000000   \n",
       "2  2018-08-08 13:50:00.0000000   2018-08-17 18:06:29.0000000   \n",
       "3  2017-11-22 13:39:59.0000000   2017-12-02 00:28:42.0000000   \n",
       "4  2018-02-14 19:46:34.0000000   2018-02-16 18:17:02.0000000   \n",
       "\n",
       "  order_estimated_delivery_date  \n",
       "0   2017-10-18 00:00:00.0000000  \n",
       "1   2018-08-13 00:00:00.0000000  \n",
       "2   2018-09-04 00:00:00.0000000  \n",
       "3   2017-12-15 00:00:00.0000000  \n",
       "4   2018-02-26 00:00:00.0000000  "
      ]
     },
     "execution_count": 9,
     "metadata": {},
     "output_type": "execute_result"
    }
   ],
   "source": [
    "olist_orders.head()"
   ]
  },
  {
   "cell_type": "code",
   "execution_count": 10,
   "metadata": {},
   "outputs": [
    {
     "data": {
      "text/plain": [
       "order_id                         99441\n",
       "customer_id                      99441\n",
       "order_status                         8\n",
       "order_purchase_timestamp         98875\n",
       "order_approved_at                90733\n",
       "order_delivered_carrier_date     81018\n",
       "order_delivered_customer_date    95664\n",
       "order_estimated_delivery_date      459\n",
       "dtype: int64"
      ]
     },
     "execution_count": 10,
     "metadata": {},
     "output_type": "execute_result"
    }
   ],
   "source": [
    "olist_orders.nunique()"
   ]
  },
  {
   "cell_type": "code",
   "execution_count": 11,
   "metadata": {},
   "outputs": [
    {
     "name": "stdout",
     "output_type": "stream",
     "text": [
      "<class 'pandas.core.frame.DataFrame'>\n",
      "RangeIndex: 99441 entries, 0 to 99440\n",
      "Data columns (total 8 columns):\n",
      " #   Column                         Non-Null Count  Dtype \n",
      "---  ------                         --------------  ----- \n",
      " 0   order_id                       99441 non-null  object\n",
      " 1   customer_id                    99441 non-null  object\n",
      " 2   order_status                   99441 non-null  object\n",
      " 3   order_purchase_timestamp       99441 non-null  object\n",
      " 4   order_approved_at              99281 non-null  object\n",
      " 5   order_delivered_carrier_date   97658 non-null  object\n",
      " 6   order_delivered_customer_date  96476 non-null  object\n",
      " 7   order_estimated_delivery_date  99441 non-null  object\n",
      "dtypes: object(8)\n",
      "memory usage: 6.1+ MB\n"
     ]
    }
   ],
   "source": [
    "olist_orders.info()"
   ]
  },
  {
   "cell_type": "code",
   "execution_count": 12,
   "metadata": {},
   "outputs": [],
   "source": [
    "#converting into datetime\n",
    "olist_orders[\"order_purchase_timestamp\"] = pd.to_datetime(olist_orders[\"order_purchase_timestamp\"])\n",
    "olist_orders[\"order_approved_at\"] = pd.to_datetime(olist_orders[\"order_approved_at\"])\n",
    "olist_orders[\"order_delivered_carrier_date\"] = pd.to_datetime(olist_orders[\"order_delivered_carrier_date\"])\n",
    "olist_orders[\"order_delivered_customer_date\"] = pd.to_datetime(olist_orders[\"order_delivered_customer_date\"])\n",
    "olist_orders[\"order_estimated_delivery_date\"] = pd.to_datetime(olist_orders[\"order_estimated_delivery_date\"])"
   ]
  },
  {
   "cell_type": "code",
   "execution_count": 13,
   "metadata": {},
   "outputs": [
    {
     "data": {
      "text/plain": [
       "delivered      96478\n",
       "shipped         1107\n",
       "canceled         625\n",
       "unavailable      609\n",
       "invoiced         314\n",
       "processing       301\n",
       "created            5\n",
       "approved           2\n",
       "Name: order_status, dtype: int64"
      ]
     },
     "execution_count": 13,
     "metadata": {},
     "output_type": "execute_result"
    }
   ],
   "source": [
    "olist_orders[\"order_status\"].value_counts()"
   ]
  },
  {
   "cell_type": "code",
   "execution_count": 14,
   "metadata": {},
   "outputs": [
    {
     "data": {
      "text/plain": [
       "delivered      97.020344\n",
       "shipped         1.113223\n",
       "canceled        0.628513\n",
       "unavailable     0.612423\n",
       "invoiced        0.315765\n",
       "processing      0.302692\n",
       "created         0.005028\n",
       "approved        0.002011\n",
       "Name: order_status, dtype: float64"
      ]
     },
     "execution_count": 14,
     "metadata": {},
     "output_type": "execute_result"
    }
   ],
   "source": [
    "count_data = olist_orders[\"order_status\"].value_counts()\n",
    "percentage_data = (count_data / count_data.sum()) * 100\n",
    "percentage_data"
   ]
  },
  {
   "cell_type": "code",
   "execution_count": 15,
   "metadata": {},
   "outputs": [
    {
     "data": {
      "image/png": "[encoded data removed]",
      "text/plain": [
       "<Figure size 864x576 with 1 Axes>"
      ]
     },
     "metadata": {
      "needs_background": "light"
     },
     "output_type": "display_data"
    }
   ],
   "source": [
    "plt.figure(figsize=(12,8))\n",
    "sns.countplot(x=\"order_status\", data=olist_orders)\n",
    "plt.xlabel(\"Status of Ordered Items\")\n",
    "plt.ylabel(\"Count\")\n",
    "plt.show()"
   ]
  },
  {
   "cell_type": "markdown",
   "metadata": {},
   "source": [
    "#### Most of the ordered items are delivered i.e. around 97%"
   ]
  },
  {
   "cell_type": "code",
   "execution_count": 16,
   "metadata": {},
   "outputs": [
    {
     "data": {
      "text/plain": [
       "0       2017-10-02 10:56:33\n",
       "1       2018-07-24 20:41:37\n",
       "2       2018-08-08 08:38:49\n",
       "3       2017-11-18 19:28:06\n",
       "4       2018-02-13 21:18:39\n",
       "                ...        \n",
       "99436   2017-03-09 09:54:05\n",
       "99437   2018-02-06 12:58:58\n",
       "99438   2017-08-27 14:46:43\n",
       "99439   2018-01-08 21:28:27\n",
       "99440   2018-03-08 20:57:30\n",
       "Name: order_purchase_timestamp, Length: 99441, dtype: datetime64[ns]"
      ]
     },
     "execution_count": 16,
     "metadata": {},
     "output_type": "execute_result"
    }
   ],
   "source": [
    "olist_orders[\"order_purchase_timestamp\"]"
   ]
  },
  {
   "cell_type": "code",
   "execution_count": 17,
   "metadata": {},
   "outputs": [],
   "source": [
    "#converting into AM PM format\n",
    "olist_orders[\"order_purchase_time\"] = olist_orders[\"order_purchase_timestamp\"].dt.strftime('%p')"
   ]
  },
  {
   "cell_type": "code",
   "execution_count": 18,
   "metadata": {},
   "outputs": [
    {
     "data": {
      "text/plain": [
       "PM    72.868334\n",
       "AM    27.131666\n",
       "Name: order_purchase_time, dtype: float64"
      ]
     },
     "execution_count": 18,
     "metadata": {},
     "output_type": "execute_result"
    }
   ],
   "source": [
    "#finding the percentage\n",
    "olist_orders[\"order_purchase_time\"].value_counts()/(olist_orders[\"order_purchase_time\"].value_counts().sum()) * 100"
   ]
  },
  {
   "cell_type": "markdown",
   "metadata": {},
   "source": [
    "### So most of the items are ordered at night time"
   ]
  },
  {
   "cell_type": "code",
   "execution_count": 19,
   "metadata": {},
   "outputs": [
    {
     "data": {
      "image/png": "[encoded data removed]",
      "text/plain": [
       "<Figure size 864x576 with 1 Axes>"
      ]
     },
     "metadata": {
      "needs_background": "light"
     },
     "output_type": "display_data"
    }
   ],
   "source": [
    "#plotting the time of ordered items\n",
    "plt.figure(figsize=(12,8))\n",
    "sns.countplot(x=\"order_purchase_time\", data=olist_orders)\n",
    "plt.xlabel(\"Time\")\n",
    "plt.ylabel(\"Frequency\")\n",
    "plt.show()"
   ]
  },
  {
   "cell_type": "code",
   "execution_count": 20,
   "metadata": {},
   "outputs": [
    {
     "data": {
      "text/plain": [
       "count                         96476\n",
       "mean     12 days 13:24:31.879068369\n",
       "std       9 days 13:07:00.181125305\n",
       "min                 0 days 12:48:07\n",
       "25%          6 days 18:23:37.250000\n",
       "50%                10 days 05:13:34\n",
       "75%         15 days 17:17:16.250000\n",
       "max               209 days 15:05:12\n",
       "dtype: object"
      ]
     },
     "execution_count": 20,
     "metadata": {},
     "output_type": "execute_result"
    }
   ],
   "source": [
    "#finding the minimum approve time\n",
    "difference = olist_orders[\"order_delivered_customer_date\"] -olist_orders[\"order_purchase_timestamp\"] \n",
    "difference.describe()"
   ]
  },
  {
   "cell_type": "markdown",
   "metadata": {},
   "source": [
    "#### So at average it takes around 12 and half days for delivering the items after purchasing by customers"
   ]
  },
  {
   "cell_type": "code",
   "execution_count": 21,
   "metadata": {},
   "outputs": [],
   "source": [
    "olist_orders[\"order_purchase_hour\"] = olist_orders[\"order_purchase_timestamp\"].dt.strftime('%H')\n",
    "order = olist_orders[\"order_purchase_hour\"].value_counts().index "
   ]
  },
  {
   "cell_type": "code",
   "execution_count": 22,
   "metadata": {},
   "outputs": [
    {
     "data": {
      "image/png": "[encoded data removed]",
      "text/plain": [
       "<Figure size 864x576 with 1 Axes>"
      ]
     },
     "metadata": {
      "needs_background": "light"
     },
     "output_type": "display_data"
    }
   ],
   "source": [
    "plt.figure(figsize=(12,8))\n",
    "sns.countplot(x=\"order_purchase_hour\", data=olist_orders, order=order)\n",
    "plt.xlabel(\"Hour\")\n",
    "plt.ylabel(\"Count\")\n",
    "plt.show()"
   ]
  },
  {
   "cell_type": "markdown",
   "metadata": {},
   "source": [
    "##### So most of the items are purchased at around 16 i.e. 4 PM "
   ]
  },
  {
   "cell_type": "code",
   "execution_count": 23,
   "metadata": {},
   "outputs": [],
   "source": [
    "olist_orders[\"order_purchase_year\"] = olist_orders[\"order_purchase_timestamp\"].dt.strftime('%Y')\n",
    "order = olist_orders[\"order_purchase_year\"].value_counts().index "
   ]
  },
  {
   "cell_type": "code",
   "execution_count": 24,
   "metadata": {},
   "outputs": [
    {
     "data": {
      "image/png": "[encoded data removed]",
      "text/plain": [
       "<Figure size 864x576 with 1 Axes>"
      ]
     },
     "metadata": {
      "needs_background": "light"
     },
     "output_type": "display_data"
    }
   ],
   "source": [
    "plt.figure(figsize=(12,8))\n",
    "sns.countplot(x=\"order_purchase_year\", data=olist_orders, order=order)\n",
    "plt.xlabel(\"Year\")\n",
    "plt.ylabel(\"Count\")\n",
    "plt.show()"
   ]
  },
  {
   "cell_type": "markdown",
   "metadata": {},
   "source": [
    "#### Looking at the sales we can see 2018 year had most sales of product rather than other years|"
   ]
  },
  {
   "cell_type": "code",
   "execution_count": 25,
   "metadata": {},
   "outputs": [],
   "source": [
    "olist_orders[\"order_purchase_month\"] = olist_orders[\"order_purchase_timestamp\"].dt.strftime('%B')\n",
    "order = olist_orders[\"order_purchase_month\"].value_counts().index"
   ]
  },
  {
   "cell_type": "code",
   "execution_count": 26,
   "metadata": {},
   "outputs": [
    {
     "data": {
      "image/png": "[encoded data removed]",
      "text/plain": [
       "<Figure size 864x576 with 1 Axes>"
      ]
     },
     "metadata": {
      "needs_background": "light"
     },
     "output_type": "display_data"
    }
   ],
   "source": [
    "plt.figure(figsize=(12,8))\n",
    "sns.set(style=\"darkgrid\")\n",
    "sns.countplot(x=\"order_purchase_month\", data=olist_orders, order=order)\n",
    "plt.xlabel(\"Months\")\n",
    "plt.ylabel(\"Count\")\n",
    "plt.show()"
   ]
  },
  {
   "cell_type": "markdown",
   "metadata": {},
   "source": [
    "#### August month had most sales in three years followed by May"
   ]
  },
  {
   "cell_type": "markdown",
   "metadata": {},
   "source": [
    "# Lets's plot sales based on years"
   ]
  },
  {
   "cell_type": "code",
   "execution_count": 42,
   "metadata": {},
   "outputs": [],
   "source": [
    "def plotting(w,h,x,data,label,labelx,labely,hue=None,rotation=False,order=None):\n",
    "    plt.figure(figsize=(w,h))\n",
    "    plt.title(label)\n",
    "    sns.countplot(x=x,data=data,order=order,hue=hue)\n",
    "    plt.xlabel(labelx)\n",
    "    plt.ylabel(labely)\n",
    "    plt.show()"
   ]
  },
  {
   "cell_type": "code",
   "execution_count": 39,
   "metadata": {},
   "outputs": [
    {
     "data": {
      "image/png": "[encoded data removed]",
      "text/plain": [
       "<Figure size 720x720 with 1 Axes>"
      ]
     },
     "metadata": {},
     "output_type": "display_data"
    }
   ],
   "source": [
    "plotting(15,10,\"order_purchase_month\",olist_orders,\"\")\n",
    "\n",
    "plt.figure(figsize=(10,10))\n",
    "sns.countplot(x=\"order_purchase_month\",data=olist_orders,hue=olist_orders[\"order_purchase_year\"])\n",
    "plt.show()"
   ]
  },
  {
   "cell_type": "code",
   "execution_count": null,
   "metadata": {},
   "outputs": [],
   "source": []
  },
  {
   "cell_type": "code",
   "execution_count": null,
   "metadata": {},
   "outputs": [],
   "source": []
  },
  {
   "cell_type": "code",
   "execution_count": null,
   "metadata": {},
   "outputs": [],
   "source": []
  },
  {
   "cell_type": "code",
   "execution_count": null,
   "metadata": {},
   "outputs": [],
   "source": []
  },
  {
   "cell_type": "code",
   "execution_count": null,
   "metadata": {},
   "outputs": [],
   "source": []
  },
  {
   "cell_type": "code",
   "execution_count": null,
   "metadata": {},
   "outputs": [],
   "source": []
  },
  {
   "cell_type": "code",
   "execution_count": null,
   "metadata": {},
   "outputs": [],
   "source": []
  },
  {
   "cell_type": "code",
   "execution_count": null,
   "metadata": {},
   "outputs": [],
   "source": []
  },
  {
   "cell_type": "code",
   "execution_count": null,
   "metadata": {},
   "outputs": [],
   "source": []
  }
 ],
 "metadata": {
  "kernelspec": {
   "display_name": "Python 3 (ipykernel)",
   "language": "python",
   "name": "python3"
  },
  "language_info": {
   "codemirror_mode": {
    "name": "ipython",
    "version": 3
   },
   "file_extension": ".py",
   "mimetype": "text/x-python",
   "name": "python",
   "nbconvert_exporter": "python",
   "pygments_lexer": "ipython3",
   "version": "3.9.12"
  }
 },
 "nbformat": 4,
 "nbformat_minor": 4
}
